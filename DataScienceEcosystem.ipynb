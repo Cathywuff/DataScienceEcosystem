{
 "cells": [
  {
   "cell_type": "markdown",
   "id": "0a3c331d",
   "metadata": {},
   "source": [
    "# Data Science Tools and Ecosystem"
   ]
  },
  {
   "cell_type": "markdown",
   "id": "d0200fd6",
   "metadata": {},
   "source": [
    "In this notebook, Data Science Tools and Ecosystem are summarized."
   ]
  },
  {
   "cell_type": "markdown",
   "id": "ebd93261",
   "metadata": {},
   "source": [
    "Some of the popular languages that Data Scientists use are:"
   ]
  },
  {
   "cell_type": "markdown",
   "id": "37ee6261",
   "metadata": {},
   "source": [
    "###### Objectives:"
   ]
  },
  {
   "cell_type": "markdown",
   "id": "804ca371",
   "metadata": {},
   "source": [
    "-List popular languages for Data Science"
   ]
  },
  {
   "cell_type": "markdown",
   "id": "f048f2ac",
   "metadata": {},
   "source": [
    "-List Data Science Tools in Data Science"
   ]
  },
  {
   "cell_type": "markdown",
   "id": "37f08f18",
   "metadata": {},
   "source": [
    "-List some examples of evaluating arithmetic expressions in Python"
   ]
  },
  {
   "cell_type": "markdown",
   "id": "33a5060c",
   "metadata": {},
   "source": []
  },
  {
   "cell_type": "markdown",
   "id": "e4581e05",
   "metadata": {},
   "source": [
    "Some of the commonly used libraries used by Data Scientists include:"
   ]
  },
  {
   "cell_type": "markdown",
   "id": "2b0b93a4",
   "metadata": {},
   "source": []
  },
  {
   "cell_type": "markdown",
   "id": "f68af929",
   "metadata": {},
   "source": []
  },
  {
   "cell_type": "markdown",
   "id": "1ce597e0",
   "metadata": {},
   "source": []
  },
  {
   "cell_type": "markdown",
   "id": "0c718734",
   "metadata": {},
   "source": [
    "Data Science Tools"
   ]
  },
  {
   "cell_type": "markdown",
   "id": "e176871e",
   "metadata": {},
   "source": [
    "|Data Science Tools|\n",
    "-----------------------------\n",
    "|JupyterNotebook|\n",
    "|RStudio|\n",
    "|Visual Studio Code|"
   ]
  },
  {
   "cell_type": "markdown",
   "id": "43240a87",
   "metadata": {},
   "source": [
    "### Below are a few examples of evaluating arithmetic expressions in Python"
   ]
  },
  {
   "cell_type": "markdown",
   "id": "9dbb3d1a",
   "metadata": {},
   "source": [
    "This a simple arithmetic expression to mutiply then add integers"
   ]
  },
  {
   "cell_type": "code",
   "execution_count": 1,
   "id": "8ba8a2a8",
   "metadata": {},
   "outputs": [
    {
     "data": {
      "text/plain": [
       "17"
      ]
     },
     "execution_count": 1,
     "metadata": {},
     "output_type": "execute_result"
    }
   ],
   "source": [
    "(3*4)+5"
   ]
  },
  {
   "cell_type": "markdown",
   "id": "cfc27e39",
   "metadata": {},
   "source": [
    "This will convert 200 minutes to hours by diving by 60:"
   ]
  },
  {
   "cell_type": "code",
   "execution_count": 2,
   "id": "1c9d5c35",
   "metadata": {},
   "outputs": [
    {
     "data": {
      "text/plain": [
       "3.3333333333333335"
      ]
     },
     "execution_count": 2,
     "metadata": {},
     "output_type": "execute_result"
    }
   ],
   "source": [
    "200/60"
   ]
  },
  {
   "cell_type": "markdown",
   "id": "eb57e2b3",
   "metadata": {},
   "source": [
    "## Author"
   ]
  },
  {
   "cell_type": "markdown",
   "id": "cc358943",
   "metadata": {},
   "source": [
    "Fangfang Wu (Cathy Wu)"
   ]
  },
  {
   "cell_type": "code",
   "execution_count": null,
   "id": "6f0b90f6",
   "metadata": {},
   "outputs": [],
   "source": []
  }
 ],
 "metadata": {
  "kernelspec": {
   "display_name": "Python 3 (ipykernel)",
   "language": "python",
   "name": "python3"
  },
  "language_info": {
   "codemirror_mode": {
    "name": "ipython",
    "version": 3
   },
   "file_extension": ".py",
   "mimetype": "text/x-python",
   "name": "python",
   "nbconvert_exporter": "python",
   "pygments_lexer": "ipython3",
   "version": "3.9.12"
  }
 },
 "nbformat": 4,
 "nbformat_minor": 5
}
